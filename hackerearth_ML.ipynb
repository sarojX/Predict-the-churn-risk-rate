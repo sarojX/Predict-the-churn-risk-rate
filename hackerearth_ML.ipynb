{
 "cells": [
  {
   "cell_type": "code",
   "execution_count": 1,
   "metadata": {},
   "outputs": [],
   "source": [
    "import pandas as pd\n",
    "import numpy as np\n",
    "import matplotlib.pyplot as plt\n",
    "%matplotlib inline\n",
    "import seaborn as sns"
   ]
  },
  {
   "cell_type": "code",
   "execution_count": 2,
   "metadata": {
    "scrolled": false
   },
   "outputs": [
    {
     "name": "stdout",
     "output_type": "stream",
     "text": [
      "<class 'pandas.core.frame.DataFrame'>\n",
      "RangeIndex: 19919 entries, 0 to 19918\n",
      "Data columns (total 24 columns):\n",
      " #   Column                        Non-Null Count  Dtype         \n",
      "---  ------                        --------------  -----         \n",
      " 0   customer_id                   19919 non-null  object        \n",
      " 1   Name                          19919 non-null  object        \n",
      " 2   age                           19919 non-null  int64         \n",
      " 3   gender                        19919 non-null  object        \n",
      " 4   security_no                   19919 non-null  object        \n",
      " 5   region_category               16971 non-null  object        \n",
      " 6   membership_category           19919 non-null  object        \n",
      " 7   joining_date                  19919 non-null  datetime64[ns]\n",
      " 8   joined_through_referral       19919 non-null  object        \n",
      " 9   referral_id                   19919 non-null  object        \n",
      " 10  preferred_offer_types         19760 non-null  object        \n",
      " 11  medium_of_operation           19919 non-null  object        \n",
      " 12  internet_option               19919 non-null  object        \n",
      " 13  last_visit_time               19919 non-null  object        \n",
      " 14  days_since_last_login         19919 non-null  int64         \n",
      " 15  avg_time_spent                19919 non-null  float64       \n",
      " 16  avg_transaction_value         19919 non-null  float64       \n",
      " 17  avg_frequency_login_days      19919 non-null  object        \n",
      " 18  points_in_wallet              17956 non-null  float64       \n",
      " 19  used_special_discount         19919 non-null  object        \n",
      " 20  offer_application_preference  19919 non-null  object        \n",
      " 21  past_complaint                19919 non-null  object        \n",
      " 22  complaint_status              19919 non-null  object        \n",
      " 23  feedback                      19919 non-null  object        \n",
      "dtypes: datetime64[ns](1), float64(3), int64(2), object(18)\n",
      "memory usage: 3.6+ MB\n",
      "None\n",
      "customer_id                        0\n",
      "Name                               0\n",
      "age                                0\n",
      "gender                             0\n",
      "security_no                        0\n",
      "region_category                 2948\n",
      "membership_category                0\n",
      "joining_date                       0\n",
      "joined_through_referral            0\n",
      "referral_id                        0\n",
      "preferred_offer_types            159\n",
      "medium_of_operation                0\n",
      "internet_option                    0\n",
      "last_visit_time                    0\n",
      "days_since_last_login              0\n",
      "avg_time_spent                     0\n",
      "avg_transaction_value              0\n",
      "avg_frequency_login_days           0\n",
      "points_in_wallet                1963\n",
      "used_special_discount              0\n",
      "offer_application_preference       0\n",
      "past_complaint                     0\n",
      "complaint_status                   0\n",
      "feedback                           0\n",
      "dtype: int64\n"
     ]
    }
   ],
   "source": [
    "df2 = pd.read_csv(\"test.csv\", parse_dates=['joining_date'])\n",
    "print(df2.info())\n",
    "print(df2.isnull().sum())"
   ]
  },
  {
   "cell_type": "code",
   "execution_count": 3,
   "metadata": {},
   "outputs": [
    {
     "data": {
      "text/plain": [
       "dtype('int64')"
      ]
     },
     "execution_count": 3,
     "metadata": {},
     "output_type": "execute_result"
    }
   ],
   "source": [
    "df1 = pd.read_csv(\"train.csv\", parse_dates=['joining_date'])\n",
    "#parse_dates=['joining_date']\n",
    "y = df1[\"churn_risk_score\"]\n",
    "#df1=df1.drop(\"churn_risk_score\", axis=1)\n",
    "df1.churn_risk_score.dtypes"
   ]
  },
  {
   "cell_type": "code",
   "execution_count": 4,
   "metadata": {},
   "outputs": [
    {
     "name": "stdout",
     "output_type": "stream",
     "text": [
      "25\n",
      "24\n",
      "(36992, 25)\n",
      "(19919, 24)\n"
     ]
    }
   ],
   "source": [
    "print(len(df1.columns))\n",
    "print(len(df2.columns))\n",
    "print((df1.shape))\n",
    "print((df2.shape))"
   ]
  },
  {
   "cell_type": "code",
   "execution_count": 5,
   "metadata": {},
   "outputs": [],
   "source": [
    "df1.set_index(\"customer_id\", inplace=True)"
   ]
  },
  {
   "cell_type": "code",
   "execution_count": 6,
   "metadata": {},
   "outputs": [],
   "source": [
    "df2.set_index(\"customer_id\", inplace=True)"
   ]
  },
  {
   "cell_type": "code",
   "execution_count": 7,
   "metadata": {
    "scrolled": true
   },
   "outputs": [
    {
     "data": {
      "text/html": [
       "<div>\n",
       "<style scoped>\n",
       "    .dataframe tbody tr th:only-of-type {\n",
       "        vertical-align: middle;\n",
       "    }\n",
       "\n",
       "    .dataframe tbody tr th {\n",
       "        vertical-align: top;\n",
       "    }\n",
       "\n",
       "    .dataframe thead th {\n",
       "        text-align: right;\n",
       "    }\n",
       "</style>\n",
       "<table border=\"1\" class=\"dataframe\">\n",
       "  <thead>\n",
       "    <tr style=\"text-align: right;\">\n",
       "      <th></th>\n",
       "      <th>Name</th>\n",
       "      <th>age</th>\n",
       "      <th>gender</th>\n",
       "      <th>security_no</th>\n",
       "      <th>region_category</th>\n",
       "      <th>membership_category</th>\n",
       "      <th>joining_date</th>\n",
       "      <th>joined_through_referral</th>\n",
       "      <th>referral_id</th>\n",
       "      <th>preferred_offer_types</th>\n",
       "      <th>...</th>\n",
       "      <th>avg_time_spent</th>\n",
       "      <th>avg_transaction_value</th>\n",
       "      <th>avg_frequency_login_days</th>\n",
       "      <th>points_in_wallet</th>\n",
       "      <th>used_special_discount</th>\n",
       "      <th>offer_application_preference</th>\n",
       "      <th>past_complaint</th>\n",
       "      <th>complaint_status</th>\n",
       "      <th>feedback</th>\n",
       "      <th>churn_risk_score</th>\n",
       "    </tr>\n",
       "    <tr>\n",
       "      <th>customer_id</th>\n",
       "      <th></th>\n",
       "      <th></th>\n",
       "      <th></th>\n",
       "      <th></th>\n",
       "      <th></th>\n",
       "      <th></th>\n",
       "      <th></th>\n",
       "      <th></th>\n",
       "      <th></th>\n",
       "      <th></th>\n",
       "      <th></th>\n",
       "      <th></th>\n",
       "      <th></th>\n",
       "      <th></th>\n",
       "      <th></th>\n",
       "      <th></th>\n",
       "      <th></th>\n",
       "      <th></th>\n",
       "      <th></th>\n",
       "      <th></th>\n",
       "      <th></th>\n",
       "    </tr>\n",
       "  </thead>\n",
       "  <tbody>\n",
       "    <tr>\n",
       "      <th>fffe4300490044003600300030003800</th>\n",
       "      <td>Pattie Morrisey</td>\n",
       "      <td>18</td>\n",
       "      <td>F</td>\n",
       "      <td>XW0DQ7H</td>\n",
       "      <td>Village</td>\n",
       "      <td>Platinum Membership</td>\n",
       "      <td>2017-08-17</td>\n",
       "      <td>No</td>\n",
       "      <td>xxxxxxxx</td>\n",
       "      <td>Gift Vouchers/Coupons</td>\n",
       "      <td>...</td>\n",
       "      <td>300.63</td>\n",
       "      <td>53005.25</td>\n",
       "      <td>17.0</td>\n",
       "      <td>781.75</td>\n",
       "      <td>Yes</td>\n",
       "      <td>Yes</td>\n",
       "      <td>No</td>\n",
       "      <td>Not Applicable</td>\n",
       "      <td>Products always in Stock</td>\n",
       "      <td>2</td>\n",
       "    </tr>\n",
       "    <tr>\n",
       "      <th>fffe43004900440032003100300035003700</th>\n",
       "      <td>Traci Peery</td>\n",
       "      <td>32</td>\n",
       "      <td>F</td>\n",
       "      <td>5K0N3X1</td>\n",
       "      <td>City</td>\n",
       "      <td>Premium Membership</td>\n",
       "      <td>2017-08-28</td>\n",
       "      <td>?</td>\n",
       "      <td>CID21329</td>\n",
       "      <td>Gift Vouchers/Coupons</td>\n",
       "      <td>...</td>\n",
       "      <td>306.34</td>\n",
       "      <td>12838.38</td>\n",
       "      <td>10.0</td>\n",
       "      <td>NaN</td>\n",
       "      <td>Yes</td>\n",
       "      <td>No</td>\n",
       "      <td>Yes</td>\n",
       "      <td>Solved</td>\n",
       "      <td>Quality Customer Care</td>\n",
       "      <td>1</td>\n",
       "    </tr>\n",
       "    <tr>\n",
       "      <th>fffe4300490044003100390032003600</th>\n",
       "      <td>Merideth Mcmeen</td>\n",
       "      <td>44</td>\n",
       "      <td>F</td>\n",
       "      <td>1F2TCL3</td>\n",
       "      <td>Town</td>\n",
       "      <td>No Membership</td>\n",
       "      <td>2016-11-11</td>\n",
       "      <td>Yes</td>\n",
       "      <td>CID12313</td>\n",
       "      <td>Gift Vouchers/Coupons</td>\n",
       "      <td>...</td>\n",
       "      <td>516.16</td>\n",
       "      <td>21027.00</td>\n",
       "      <td>22.0</td>\n",
       "      <td>500.69</td>\n",
       "      <td>No</td>\n",
       "      <td>Yes</td>\n",
       "      <td>Yes</td>\n",
       "      <td>Solved in Follow-up</td>\n",
       "      <td>Poor Website</td>\n",
       "      <td>5</td>\n",
       "    </tr>\n",
       "    <tr>\n",
       "      <th>fffe43004900440036003000330031003600</th>\n",
       "      <td>Eufemia Cardwell</td>\n",
       "      <td>37</td>\n",
       "      <td>M</td>\n",
       "      <td>VJGJ33N</td>\n",
       "      <td>City</td>\n",
       "      <td>No Membership</td>\n",
       "      <td>2016-10-29</td>\n",
       "      <td>Yes</td>\n",
       "      <td>CID3793</td>\n",
       "      <td>Gift Vouchers/Coupons</td>\n",
       "      <td>...</td>\n",
       "      <td>53.27</td>\n",
       "      <td>25239.56</td>\n",
       "      <td>6.0</td>\n",
       "      <td>567.66</td>\n",
       "      <td>No</td>\n",
       "      <td>Yes</td>\n",
       "      <td>Yes</td>\n",
       "      <td>Unsolved</td>\n",
       "      <td>Poor Website</td>\n",
       "      <td>5</td>\n",
       "    </tr>\n",
       "    <tr>\n",
       "      <th>fffe43004900440031003900350030003600</th>\n",
       "      <td>Meghan Kosak</td>\n",
       "      <td>31</td>\n",
       "      <td>F</td>\n",
       "      <td>SVZXCWB</td>\n",
       "      <td>City</td>\n",
       "      <td>No Membership</td>\n",
       "      <td>2017-09-12</td>\n",
       "      <td>No</td>\n",
       "      <td>xxxxxxxx</td>\n",
       "      <td>Credit/Debit Card Offers</td>\n",
       "      <td>...</td>\n",
       "      <td>113.13</td>\n",
       "      <td>24483.66</td>\n",
       "      <td>16.0</td>\n",
       "      <td>663.06</td>\n",
       "      <td>No</td>\n",
       "      <td>Yes</td>\n",
       "      <td>Yes</td>\n",
       "      <td>Solved</td>\n",
       "      <td>Poor Website</td>\n",
       "      <td>5</td>\n",
       "    </tr>\n",
       "  </tbody>\n",
       "</table>\n",
       "<p>5 rows × 24 columns</p>\n",
       "</div>"
      ],
      "text/plain": [
       "                                                  Name  age gender  \\\n",
       "customer_id                                                          \n",
       "fffe4300490044003600300030003800       Pattie Morrisey   18      F   \n",
       "fffe43004900440032003100300035003700       Traci Peery   32      F   \n",
       "fffe4300490044003100390032003600       Merideth Mcmeen   44      F   \n",
       "fffe43004900440036003000330031003600  Eufemia Cardwell   37      M   \n",
       "fffe43004900440031003900350030003600      Meghan Kosak   31      F   \n",
       "\n",
       "                                     security_no region_category  \\\n",
       "customer_id                                                        \n",
       "fffe4300490044003600300030003800         XW0DQ7H         Village   \n",
       "fffe43004900440032003100300035003700     5K0N3X1            City   \n",
       "fffe4300490044003100390032003600         1F2TCL3            Town   \n",
       "fffe43004900440036003000330031003600     VJGJ33N            City   \n",
       "fffe43004900440031003900350030003600     SVZXCWB            City   \n",
       "\n",
       "                                      membership_category joining_date  \\\n",
       "customer_id                                                              \n",
       "fffe4300490044003600300030003800      Platinum Membership   2017-08-17   \n",
       "fffe43004900440032003100300035003700   Premium Membership   2017-08-28   \n",
       "fffe4300490044003100390032003600            No Membership   2016-11-11   \n",
       "fffe43004900440036003000330031003600        No Membership   2016-10-29   \n",
       "fffe43004900440031003900350030003600        No Membership   2017-09-12   \n",
       "\n",
       "                                     joined_through_referral referral_id  \\\n",
       "customer_id                                                                \n",
       "fffe4300490044003600300030003800                          No    xxxxxxxx   \n",
       "fffe43004900440032003100300035003700                       ?    CID21329   \n",
       "fffe4300490044003100390032003600                         Yes    CID12313   \n",
       "fffe43004900440036003000330031003600                     Yes     CID3793   \n",
       "fffe43004900440031003900350030003600                      No    xxxxxxxx   \n",
       "\n",
       "                                         preferred_offer_types  ...  \\\n",
       "customer_id                                                     ...   \n",
       "fffe4300490044003600300030003800         Gift Vouchers/Coupons  ...   \n",
       "fffe43004900440032003100300035003700     Gift Vouchers/Coupons  ...   \n",
       "fffe4300490044003100390032003600         Gift Vouchers/Coupons  ...   \n",
       "fffe43004900440036003000330031003600     Gift Vouchers/Coupons  ...   \n",
       "fffe43004900440031003900350030003600  Credit/Debit Card Offers  ...   \n",
       "\n",
       "                                     avg_time_spent avg_transaction_value  \\\n",
       "customer_id                                                                 \n",
       "fffe4300490044003600300030003800             300.63              53005.25   \n",
       "fffe43004900440032003100300035003700         306.34              12838.38   \n",
       "fffe4300490044003100390032003600             516.16              21027.00   \n",
       "fffe43004900440036003000330031003600          53.27              25239.56   \n",
       "fffe43004900440031003900350030003600         113.13              24483.66   \n",
       "\n",
       "                                     avg_frequency_login_days  \\\n",
       "customer_id                                                     \n",
       "fffe4300490044003600300030003800                         17.0   \n",
       "fffe43004900440032003100300035003700                     10.0   \n",
       "fffe4300490044003100390032003600                         22.0   \n",
       "fffe43004900440036003000330031003600                      6.0   \n",
       "fffe43004900440031003900350030003600                     16.0   \n",
       "\n",
       "                                      points_in_wallet  used_special_discount  \\\n",
       "customer_id                                                                     \n",
       "fffe4300490044003600300030003800                781.75                    Yes   \n",
       "fffe43004900440032003100300035003700               NaN                    Yes   \n",
       "fffe4300490044003100390032003600                500.69                     No   \n",
       "fffe43004900440036003000330031003600            567.66                     No   \n",
       "fffe43004900440031003900350030003600            663.06                     No   \n",
       "\n",
       "                                      offer_application_preference  \\\n",
       "customer_id                                                          \n",
       "fffe4300490044003600300030003800                               Yes   \n",
       "fffe43004900440032003100300035003700                            No   \n",
       "fffe4300490044003100390032003600                               Yes   \n",
       "fffe43004900440036003000330031003600                           Yes   \n",
       "fffe43004900440031003900350030003600                           Yes   \n",
       "\n",
       "                                     past_complaint     complaint_status  \\\n",
       "customer_id                                                                \n",
       "fffe4300490044003600300030003800                 No       Not Applicable   \n",
       "fffe43004900440032003100300035003700            Yes               Solved   \n",
       "fffe4300490044003100390032003600                Yes  Solved in Follow-up   \n",
       "fffe43004900440036003000330031003600            Yes             Unsolved   \n",
       "fffe43004900440031003900350030003600            Yes               Solved   \n",
       "\n",
       "                                                      feedback  \\\n",
       "customer_id                                                      \n",
       "fffe4300490044003600300030003800      Products always in Stock   \n",
       "fffe43004900440032003100300035003700     Quality Customer Care   \n",
       "fffe4300490044003100390032003600                  Poor Website   \n",
       "fffe43004900440036003000330031003600              Poor Website   \n",
       "fffe43004900440031003900350030003600              Poor Website   \n",
       "\n",
       "                                     churn_risk_score  \n",
       "customer_id                                            \n",
       "fffe4300490044003600300030003800                    2  \n",
       "fffe43004900440032003100300035003700                1  \n",
       "fffe4300490044003100390032003600                    5  \n",
       "fffe43004900440036003000330031003600                5  \n",
       "fffe43004900440031003900350030003600                5  \n",
       "\n",
       "[5 rows x 24 columns]"
      ]
     },
     "execution_count": 7,
     "metadata": {},
     "output_type": "execute_result"
    }
   ],
   "source": [
    "df1.head()"
   ]
  },
  {
   "cell_type": "code",
   "execution_count": 8,
   "metadata": {},
   "outputs": [
    {
     "name": "stdout",
     "output_type": "stream",
     "text": [
      "(36992, 24)\n",
      "(19919, 23)\n"
     ]
    }
   ],
   "source": [
    "print(df1.shape)  \n",
    "print(df2.shape)"
   ]
  },
  {
   "cell_type": "code",
   "execution_count": 9,
   "metadata": {},
   "outputs": [
    {
     "name": "stdout",
     "output_type": "stream",
     "text": [
      "Total columns = 24\n",
      "Index(['Name', 'age', 'gender', 'security_no', 'region_category',\n",
      "       'membership_category', 'joining_date', 'joined_through_referral',\n",
      "       'referral_id', 'preferred_offer_types', 'medium_of_operation',\n",
      "       'internet_option', 'last_visit_time', 'days_since_last_login',\n",
      "       'avg_time_spent', 'avg_transaction_value', 'avg_frequency_login_days',\n",
      "       'points_in_wallet', 'used_special_discount',\n",
      "       'offer_application_preference', 'past_complaint', 'complaint_status',\n",
      "       'feedback', 'churn_risk_score'],\n",
      "      dtype='object')\n"
     ]
    }
   ],
   "source": [
    "print(\"Total columns =\",len(df1.columns))\n",
    "print(df1.columns)"
   ]
  },
  {
   "cell_type": "code",
   "execution_count": 10,
   "metadata": {
    "scrolled": false
   },
   "outputs": [
    {
     "data": {
      "text/html": [
       "<div>\n",
       "<style scoped>\n",
       "    .dataframe tbody tr th:only-of-type {\n",
       "        vertical-align: middle;\n",
       "    }\n",
       "\n",
       "    .dataframe tbody tr th {\n",
       "        vertical-align: top;\n",
       "    }\n",
       "\n",
       "    .dataframe thead th {\n",
       "        text-align: right;\n",
       "    }\n",
       "</style>\n",
       "<table border=\"1\" class=\"dataframe\">\n",
       "  <thead>\n",
       "    <tr style=\"text-align: right;\">\n",
       "      <th></th>\n",
       "      <th>age</th>\n",
       "      <th>gender</th>\n",
       "      <th>region_category</th>\n",
       "      <th>membership_category</th>\n",
       "      <th>joining_date</th>\n",
       "      <th>joined_through_referral</th>\n",
       "      <th>preferred_offer_types</th>\n",
       "      <th>medium_of_operation</th>\n",
       "      <th>internet_option</th>\n",
       "      <th>days_since_last_login</th>\n",
       "      <th>avg_time_spent</th>\n",
       "      <th>avg_transaction_value</th>\n",
       "      <th>avg_frequency_login_days</th>\n",
       "      <th>points_in_wallet</th>\n",
       "      <th>used_special_discount</th>\n",
       "      <th>offer_application_preference</th>\n",
       "      <th>past_complaint</th>\n",
       "      <th>complaint_status</th>\n",
       "      <th>feedback</th>\n",
       "      <th>churn_risk_score</th>\n",
       "    </tr>\n",
       "    <tr>\n",
       "      <th>customer_id</th>\n",
       "      <th></th>\n",
       "      <th></th>\n",
       "      <th></th>\n",
       "      <th></th>\n",
       "      <th></th>\n",
       "      <th></th>\n",
       "      <th></th>\n",
       "      <th></th>\n",
       "      <th></th>\n",
       "      <th></th>\n",
       "      <th></th>\n",
       "      <th></th>\n",
       "      <th></th>\n",
       "      <th></th>\n",
       "      <th></th>\n",
       "      <th></th>\n",
       "      <th></th>\n",
       "      <th></th>\n",
       "      <th></th>\n",
       "      <th></th>\n",
       "    </tr>\n",
       "  </thead>\n",
       "  <tbody>\n",
       "    <tr>\n",
       "      <th>fffe4300490044003600300030003800</th>\n",
       "      <td>18</td>\n",
       "      <td>F</td>\n",
       "      <td>Village</td>\n",
       "      <td>Platinum Membership</td>\n",
       "      <td>2017-08-17</td>\n",
       "      <td>No</td>\n",
       "      <td>Gift Vouchers/Coupons</td>\n",
       "      <td>?</td>\n",
       "      <td>Wi-Fi</td>\n",
       "      <td>17</td>\n",
       "      <td>300.63</td>\n",
       "      <td>53005.25</td>\n",
       "      <td>17.0</td>\n",
       "      <td>781.75</td>\n",
       "      <td>Yes</td>\n",
       "      <td>Yes</td>\n",
       "      <td>No</td>\n",
       "      <td>Not Applicable</td>\n",
       "      <td>Products always in Stock</td>\n",
       "      <td>2</td>\n",
       "    </tr>\n",
       "    <tr>\n",
       "      <th>fffe43004900440032003100300035003700</th>\n",
       "      <td>32</td>\n",
       "      <td>F</td>\n",
       "      <td>City</td>\n",
       "      <td>Premium Membership</td>\n",
       "      <td>2017-08-28</td>\n",
       "      <td>?</td>\n",
       "      <td>Gift Vouchers/Coupons</td>\n",
       "      <td>Desktop</td>\n",
       "      <td>Mobile_Data</td>\n",
       "      <td>16</td>\n",
       "      <td>306.34</td>\n",
       "      <td>12838.38</td>\n",
       "      <td>10.0</td>\n",
       "      <td>NaN</td>\n",
       "      <td>Yes</td>\n",
       "      <td>No</td>\n",
       "      <td>Yes</td>\n",
       "      <td>Solved</td>\n",
       "      <td>Quality Customer Care</td>\n",
       "      <td>1</td>\n",
       "    </tr>\n",
       "  </tbody>\n",
       "</table>\n",
       "</div>"
      ],
      "text/plain": [
       "                                      age gender region_category  \\\n",
       "customer_id                                                        \n",
       "fffe4300490044003600300030003800       18      F         Village   \n",
       "fffe43004900440032003100300035003700   32      F            City   \n",
       "\n",
       "                                      membership_category joining_date  \\\n",
       "customer_id                                                              \n",
       "fffe4300490044003600300030003800      Platinum Membership   2017-08-17   \n",
       "fffe43004900440032003100300035003700   Premium Membership   2017-08-28   \n",
       "\n",
       "                                     joined_through_referral  \\\n",
       "customer_id                                                    \n",
       "fffe4300490044003600300030003800                          No   \n",
       "fffe43004900440032003100300035003700                       ?   \n",
       "\n",
       "                                      preferred_offer_types  \\\n",
       "customer_id                                                   \n",
       "fffe4300490044003600300030003800      Gift Vouchers/Coupons   \n",
       "fffe43004900440032003100300035003700  Gift Vouchers/Coupons   \n",
       "\n",
       "                                     medium_of_operation internet_option  \\\n",
       "customer_id                                                                \n",
       "fffe4300490044003600300030003800                       ?           Wi-Fi   \n",
       "fffe43004900440032003100300035003700             Desktop     Mobile_Data   \n",
       "\n",
       "                                      days_since_last_login  avg_time_spent  \\\n",
       "customer_id                                                                   \n",
       "fffe4300490044003600300030003800                         17          300.63   \n",
       "fffe43004900440032003100300035003700                     16          306.34   \n",
       "\n",
       "                                      avg_transaction_value  \\\n",
       "customer_id                                                   \n",
       "fffe4300490044003600300030003800                   53005.25   \n",
       "fffe43004900440032003100300035003700               12838.38   \n",
       "\n",
       "                                     avg_frequency_login_days  \\\n",
       "customer_id                                                     \n",
       "fffe4300490044003600300030003800                         17.0   \n",
       "fffe43004900440032003100300035003700                     10.0   \n",
       "\n",
       "                                      points_in_wallet used_special_discount  \\\n",
       "customer_id                                                                    \n",
       "fffe4300490044003600300030003800                781.75                   Yes   \n",
       "fffe43004900440032003100300035003700               NaN                   Yes   \n",
       "\n",
       "                                     offer_application_preference  \\\n",
       "customer_id                                                         \n",
       "fffe4300490044003600300030003800                              Yes   \n",
       "fffe43004900440032003100300035003700                           No   \n",
       "\n",
       "                                     past_complaint complaint_status  \\\n",
       "customer_id                                                            \n",
       "fffe4300490044003600300030003800                 No   Not Applicable   \n",
       "fffe43004900440032003100300035003700            Yes           Solved   \n",
       "\n",
       "                                                      feedback  \\\n",
       "customer_id                                                      \n",
       "fffe4300490044003600300030003800      Products always in Stock   \n",
       "fffe43004900440032003100300035003700     Quality Customer Care   \n",
       "\n",
       "                                      churn_risk_score  \n",
       "customer_id                                             \n",
       "fffe4300490044003600300030003800                     2  \n",
       "fffe43004900440032003100300035003700                 1  "
      ]
     },
     "execution_count": 10,
     "metadata": {},
     "output_type": "execute_result"
    }
   ],
   "source": [
    "df1 = df1.drop([\"Name\",\"security_no\",\"referral_id\",\"last_visit_time\"], axis=1)\n",
    "df1.head(2)"
   ]
  },
  {
   "cell_type": "code",
   "execution_count": 11,
   "metadata": {},
   "outputs": [
    {
     "data": {
      "text/html": [
       "<div>\n",
       "<style scoped>\n",
       "    .dataframe tbody tr th:only-of-type {\n",
       "        vertical-align: middle;\n",
       "    }\n",
       "\n",
       "    .dataframe tbody tr th {\n",
       "        vertical-align: top;\n",
       "    }\n",
       "\n",
       "    .dataframe thead th {\n",
       "        text-align: right;\n",
       "    }\n",
       "</style>\n",
       "<table border=\"1\" class=\"dataframe\">\n",
       "  <thead>\n",
       "    <tr style=\"text-align: right;\">\n",
       "      <th></th>\n",
       "      <th>age</th>\n",
       "      <th>gender</th>\n",
       "      <th>region_category</th>\n",
       "      <th>membership_category</th>\n",
       "      <th>joining_date</th>\n",
       "      <th>joined_through_referral</th>\n",
       "      <th>preferred_offer_types</th>\n",
       "      <th>medium_of_operation</th>\n",
       "      <th>internet_option</th>\n",
       "      <th>days_since_last_login</th>\n",
       "      <th>avg_time_spent</th>\n",
       "      <th>avg_transaction_value</th>\n",
       "      <th>avg_frequency_login_days</th>\n",
       "      <th>points_in_wallet</th>\n",
       "      <th>used_special_discount</th>\n",
       "      <th>offer_application_preference</th>\n",
       "      <th>past_complaint</th>\n",
       "      <th>complaint_status</th>\n",
       "      <th>feedback</th>\n",
       "    </tr>\n",
       "    <tr>\n",
       "      <th>customer_id</th>\n",
       "      <th></th>\n",
       "      <th></th>\n",
       "      <th></th>\n",
       "      <th></th>\n",
       "      <th></th>\n",
       "      <th></th>\n",
       "      <th></th>\n",
       "      <th></th>\n",
       "      <th></th>\n",
       "      <th></th>\n",
       "      <th></th>\n",
       "      <th></th>\n",
       "      <th></th>\n",
       "      <th></th>\n",
       "      <th></th>\n",
       "      <th></th>\n",
       "      <th></th>\n",
       "      <th></th>\n",
       "      <th></th>\n",
       "    </tr>\n",
       "  </thead>\n",
       "  <tbody>\n",
       "    <tr>\n",
       "      <th>fffe43004900440031003700300030003400</th>\n",
       "      <td>50</td>\n",
       "      <td>F</td>\n",
       "      <td>Village</td>\n",
       "      <td>Premium Membership</td>\n",
       "      <td>2015-11-02</td>\n",
       "      <td>No</td>\n",
       "      <td>Without Offers</td>\n",
       "      <td>Smartphone</td>\n",
       "      <td>Wi-Fi</td>\n",
       "      <td>12</td>\n",
       "      <td>386.26</td>\n",
       "      <td>40721.44</td>\n",
       "      <td>7.0</td>\n",
       "      <td>733.83</td>\n",
       "      <td>Yes</td>\n",
       "      <td>No</td>\n",
       "      <td>No</td>\n",
       "      <td>Not Applicable</td>\n",
       "      <td>Poor Product Quality</td>\n",
       "    </tr>\n",
       "    <tr>\n",
       "      <th>fffe43004900440031003900370037003300</th>\n",
       "      <td>41</td>\n",
       "      <td>M</td>\n",
       "      <td>Village</td>\n",
       "      <td>Gold Membership</td>\n",
       "      <td>2016-03-01</td>\n",
       "      <td>No</td>\n",
       "      <td>Without Offers</td>\n",
       "      <td>Desktop</td>\n",
       "      <td>Fiber_Optic</td>\n",
       "      <td>11</td>\n",
       "      <td>37.80</td>\n",
       "      <td>9644.40</td>\n",
       "      <td>9.0</td>\n",
       "      <td>726.00</td>\n",
       "      <td>Yes</td>\n",
       "      <td>No</td>\n",
       "      <td>No</td>\n",
       "      <td>Not Applicable</td>\n",
       "      <td>Poor Website</td>\n",
       "    </tr>\n",
       "  </tbody>\n",
       "</table>\n",
       "</div>"
      ],
      "text/plain": [
       "                                      age gender region_category  \\\n",
       "customer_id                                                        \n",
       "fffe43004900440031003700300030003400   50      F         Village   \n",
       "fffe43004900440031003900370037003300   41      M         Village   \n",
       "\n",
       "                                     membership_category joining_date  \\\n",
       "customer_id                                                             \n",
       "fffe43004900440031003700300030003400  Premium Membership   2015-11-02   \n",
       "fffe43004900440031003900370037003300     Gold Membership   2016-03-01   \n",
       "\n",
       "                                     joined_through_referral  \\\n",
       "customer_id                                                    \n",
       "fffe43004900440031003700300030003400                      No   \n",
       "fffe43004900440031003900370037003300                      No   \n",
       "\n",
       "                                     preferred_offer_types  \\\n",
       "customer_id                                                  \n",
       "fffe43004900440031003700300030003400        Without Offers   \n",
       "fffe43004900440031003900370037003300        Without Offers   \n",
       "\n",
       "                                     medium_of_operation internet_option  \\\n",
       "customer_id                                                                \n",
       "fffe43004900440031003700300030003400          Smartphone           Wi-Fi   \n",
       "fffe43004900440031003900370037003300             Desktop     Fiber_Optic   \n",
       "\n",
       "                                      days_since_last_login  avg_time_spent  \\\n",
       "customer_id                                                                   \n",
       "fffe43004900440031003700300030003400                     12          386.26   \n",
       "fffe43004900440031003900370037003300                     11           37.80   \n",
       "\n",
       "                                      avg_transaction_value  \\\n",
       "customer_id                                                   \n",
       "fffe43004900440031003700300030003400               40721.44   \n",
       "fffe43004900440031003900370037003300                9644.40   \n",
       "\n",
       "                                     avg_frequency_login_days  \\\n",
       "customer_id                                                     \n",
       "fffe43004900440031003700300030003400                      7.0   \n",
       "fffe43004900440031003900370037003300                      9.0   \n",
       "\n",
       "                                      points_in_wallet used_special_discount  \\\n",
       "customer_id                                                                    \n",
       "fffe43004900440031003700300030003400            733.83                   Yes   \n",
       "fffe43004900440031003900370037003300            726.00                   Yes   \n",
       "\n",
       "                                     offer_application_preference  \\\n",
       "customer_id                                                         \n",
       "fffe43004900440031003700300030003400                           No   \n",
       "fffe43004900440031003900370037003300                           No   \n",
       "\n",
       "                                     past_complaint complaint_status  \\\n",
       "customer_id                                                            \n",
       "fffe43004900440031003700300030003400             No   Not Applicable   \n",
       "fffe43004900440031003900370037003300             No   Not Applicable   \n",
       "\n",
       "                                                  feedback  \n",
       "customer_id                                                 \n",
       "fffe43004900440031003700300030003400  Poor Product Quality  \n",
       "fffe43004900440031003900370037003300          Poor Website  "
      ]
     },
     "execution_count": 11,
     "metadata": {},
     "output_type": "execute_result"
    }
   ],
   "source": [
    "df2 = df2.drop([\"Name\",\"security_no\",\"referral_id\",\"last_visit_time\"], axis=1)\n",
    "df2.head(2)"
   ]
  },
  {
   "cell_type": "code",
   "execution_count": 12,
   "metadata": {},
   "outputs": [
    {
     "data": {
      "text/plain": [
       "age                                      int64\n",
       "gender                                  object\n",
       "region_category                         object\n",
       "membership_category                     object\n",
       "joining_date                    datetime64[ns]\n",
       "joined_through_referral                 object\n",
       "preferred_offer_types                   object\n",
       "medium_of_operation                     object\n",
       "internet_option                         object\n",
       "days_since_last_login                    int64\n",
       "avg_time_spent                         float64\n",
       "avg_transaction_value                  float64\n",
       "avg_frequency_login_days                object\n",
       "points_in_wallet                       float64\n",
       "used_special_discount                   object\n",
       "offer_application_preference            object\n",
       "past_complaint                          object\n",
       "complaint_status                        object\n",
       "feedback                                object\n",
       "churn_risk_score                         int64\n",
       "dtype: object"
      ]
     },
     "execution_count": 12,
     "metadata": {},
     "output_type": "execute_result"
    }
   ],
   "source": [
    "df1.dtypes"
   ]
  },
  {
   "cell_type": "code",
   "execution_count": 13,
   "metadata": {
    "scrolled": true
   },
   "outputs": [
    {
     "name": "stdout",
     "output_type": "stream",
     "text": [
      "gender : 3\n",
      "region_category : 4\n",
      "membership_category : 6\n",
      "joined_through_referral : 3\n",
      "preferred_offer_types : 4\n",
      "medium_of_operation : 4\n",
      "internet_option : 3\n",
      "avg_frequency_login_days : 1654\n",
      "used_special_discount : 2\n",
      "offer_application_preference : 2\n",
      "past_complaint : 2\n",
      "complaint_status : 5\n",
      "feedback : 9\n"
     ]
    }
   ],
   "source": [
    "for i in df1.columns:\n",
    "    if df1[i].dtype == 'O':\n",
    "        print(i,\":\",len(df1[i].unique()))"
   ]
  },
  {
   "cell_type": "code",
   "execution_count": 14,
   "metadata": {},
   "outputs": [
    {
     "data": {
      "text/plain": [
       "Error                 3522\n",
       "13.0                  1394\n",
       "19.0                  1365\n",
       "8.0                   1361\n",
       "14.0                  1355\n",
       "                      ... \n",
       "38.171638711704205       1\n",
       "-2.6593049208238         1\n",
       "33.506499367317765       1\n",
       "49.2967272346713         1\n",
       "31.627609933736142       1\n",
       "Name: avg_frequency_login_days, Length: 1654, dtype: int64"
      ]
     },
     "execution_count": 14,
     "metadata": {},
     "output_type": "execute_result"
    }
   ],
   "source": [
    "df1[\"avg_frequency_login_days\"].value_counts()                 #-22.27092071489964 which type of values r these"
   ]
  },
  {
   "cell_type": "code",
   "execution_count": 15,
   "metadata": {},
   "outputs": [],
   "source": [
    "df1.replace('Error', np.NaN, inplace=True)"
   ]
  },
  {
   "cell_type": "code",
   "execution_count": 16,
   "metadata": {},
   "outputs": [],
   "source": [
    "df2.replace('Error', np.NaN, inplace=True)"
   ]
  },
  {
   "cell_type": "code",
   "execution_count": 17,
   "metadata": {},
   "outputs": [],
   "source": [
    "df1[\"avg_frequency_login_days\"] = df1[\"avg_frequency_login_days\"].astype(\"O\").astype(\"float64\")"
   ]
  },
  {
   "cell_type": "code",
   "execution_count": 18,
   "metadata": {},
   "outputs": [],
   "source": [
    "df2[\"avg_frequency_login_days\"] = df2[\"avg_frequency_login_days\"].astype(\"O\").astype(\"float64\")"
   ]
  },
  {
   "cell_type": "code",
   "execution_count": 19,
   "metadata": {},
   "outputs": [
    {
     "name": "stdout",
     "output_type": "stream",
     "text": [
      "gender------------------------------------------------------\n",
      "F          18490\n",
      "M          18443\n",
      "Unknown       59\n",
      "Name: gender, dtype: int64\n",
      "region_category------------------------------------------------------\n",
      "Town       14128\n",
      "City       12737\n",
      "Village     4699\n",
      "Name: region_category, dtype: int64\n",
      "membership_category------------------------------------------------------\n",
      "Basic Membership       7724\n",
      "No Membership          7692\n",
      "Gold Membership        6795\n",
      "Silver Membership      5988\n",
      "Premium Membership     4455\n",
      "Platinum Membership    4338\n",
      "Name: membership_category, dtype: int64\n",
      "joined_through_referral------------------------------------------------------\n",
      "No     15839\n",
      "Yes    15715\n",
      "?       5438\n",
      "Name: joined_through_referral, dtype: int64\n",
      "preferred_offer_types------------------------------------------------------\n",
      "Gift Vouchers/Coupons       12349\n",
      "Credit/Debit Card Offers    12274\n",
      "Without Offers              12081\n",
      "Name: preferred_offer_types, dtype: int64\n",
      "medium_of_operation------------------------------------------------------\n",
      "Desktop       13913\n",
      "Smartphone    13876\n",
      "?              5393\n",
      "Both           3810\n",
      "Name: medium_of_operation, dtype: int64\n",
      "internet_option------------------------------------------------------\n",
      "Wi-Fi          12413\n",
      "Mobile_Data    12343\n",
      "Fiber_Optic    12236\n",
      "Name: internet_option, dtype: int64\n",
      "used_special_discount------------------------------------------------------\n",
      "Yes    20342\n",
      "No     16650\n",
      "Name: used_special_discount, dtype: int64\n",
      "offer_application_preference------------------------------------------------------\n",
      "Yes    20440\n",
      "No     16552\n",
      "Name: offer_application_preference, dtype: int64\n",
      "past_complaint------------------------------------------------------\n",
      "No     18602\n",
      "Yes    18390\n",
      "Name: past_complaint, dtype: int64\n",
      "complaint_status------------------------------------------------------\n",
      "Not Applicable              18602\n",
      "Unsolved                     4644\n",
      "Solved                       4619\n",
      "Solved in Follow-up          4577\n",
      "No Information Available     4550\n",
      "Name: complaint_status, dtype: int64\n",
      "feedback------------------------------------------------------\n",
      "Poor Product Quality        6350\n",
      "No reason specified         6290\n",
      "Too many ads                6279\n",
      "Poor Website                6271\n",
      "Poor Customer Service       6252\n",
      "Reasonable Price            1417\n",
      "User Friendly Website       1391\n",
      "Products always in Stock    1382\n",
      "Quality Customer Care       1360\n",
      "Name: feedback, dtype: int64\n",
      "churn_risk_score------------------------------------------------------\n",
      " 3    10424\n",
      " 4    10185\n",
      " 5     9827\n",
      " 2     2741\n",
      " 1     2652\n",
      "-1     1163\n",
      "Name: churn_risk_score, dtype: int64\n"
     ]
    }
   ],
   "source": [
    "for category in [\"gender\",\"region_category\",\"membership_category\",\"joined_through_referral\",\n",
    "                 \"preferred_offer_types\",\"medium_of_operation\",\"internet_option\",\"used_special_discount\",\n",
    "                 \"offer_application_preference\",\"past_complaint\",\"complaint_status\",\"feedback\",\"churn_risk_score\"]:\n",
    "    print(category + \"------------------------------------------------------\")\n",
    "    print(df1[category].value_counts())"
   ]
  },
  {
   "cell_type": "code",
   "execution_count": 20,
   "metadata": {},
   "outputs": [],
   "source": [
    "# # drop 59/36992  rows as in gender its unknown\n",
    "# index_names = df1[ df1['gender'] == 'Unknown' ].index\n",
    "# df1.drop(index_names, inplace = True)\n",
    "# #df1=df1.drop(index_names, inplace = True)\n",
    "\n",
    "# # drop 296/36992  rows as in churn_risk_score its -1\n",
    "# index_names1 = df1[ df1['churn_risk_score'] == -1 ].index\n",
    "# df1.drop(index_names1, inplace = True)"
   ]
  },
  {
   "cell_type": "code",
   "execution_count": 21,
   "metadata": {},
   "outputs": [],
   "source": [
    "# index_names2 = df2[ df2['gender'] == 'Unknown' ].index\n",
    "# df1.drop(index_names, inplace = True)"
   ]
  },
  {
   "cell_type": "code",
   "execution_count": 22,
   "metadata": {},
   "outputs": [],
   "source": [
    "df1.replace('?', np.NaN, inplace = True)         #unknown -left"
   ]
  },
  {
   "cell_type": "code",
   "execution_count": 23,
   "metadata": {},
   "outputs": [],
   "source": [
    "df2.replace('?', np.NaN, inplace = True)"
   ]
  },
  {
   "cell_type": "code",
   "execution_count": 24,
   "metadata": {},
   "outputs": [
    {
     "name": "stdout",
     "output_type": "stream",
     "text": [
      "region_category ----> 5428 null values & object\n",
      "joined_through_referral ----> 5438 null values & object\n",
      "preferred_offer_types ----> 288 null values & object\n",
      "medium_of_operation ----> 5393 null values & object\n",
      "avg_frequency_login_days ----> 3522 null values & float64\n",
      "points_in_wallet ----> 3443 null values & float64\n"
     ]
    }
   ],
   "source": [
    "#features, no of null values & data types\n",
    "for i in df1.columns:\n",
    "    if df1[i].isnull().sum()>0:\n",
    "        print(i,\"---->\", df1[i].isnull().sum(), \"null values &\", df1[i].dtypes )"
   ]
  },
  {
   "cell_type": "code",
   "execution_count": null,
   "metadata": {},
   "outputs": [],
   "source": []
  },
  {
   "cell_type": "code",
   "execution_count": 25,
   "metadata": {},
   "outputs": [],
   "source": [
    "#random sample\n",
    "def impute_nan(df,variable):\n",
    "    #df[variable+\"_median\"]=df[variable].fillna(median)\n",
    "    df[variable+\"_random\"]=df[variable]\n",
    "    random_sample=df[variable].dropna().sample(df[variable].isnull().sum(), random_state=0)\n",
    "    random_sample.index=df[df[variable].isnull()].index\n",
    "    df.loc[df[variable].isnull(),variable+\"_random\"]=random_sample"
   ]
  },
  {
   "cell_type": "code",
   "execution_count": 26,
   "metadata": {},
   "outputs": [],
   "source": [
    "#all has been replaced with random sample\n",
    "for feature in [\"region_category\", \"joined_through_referral\", \"preferred_offer_types\", \n",
    "                \"medium_of_operation\", \"avg_frequency_login_days\",\"points_in_wallet\"]:\n",
    "    impute_nan(df1, feature)\n",
    "    impute_nan(df2, feature)"
   ]
  },
  {
   "cell_type": "code",
   "execution_count": 27,
   "metadata": {},
   "outputs": [],
   "source": [
    "# # variance distortion checking for only dtype - float features,  randomly imputed\n",
    "# fig=plt.figure()\n",
    "# ax=fig.add_subplot(111)\n",
    "# df1['avg_frequency_login_days'].plot(kind='kde', ax=ax, color='blue')\n",
    "# #df1['points_in_wallet_median'].plot(kind='kde', ax=ax, color='blue')\n",
    "# df1['avg_frequency_login_days_random'].plot(kind='kde', ax=ax, color='red')\n",
    "# lines, labels=ax.get_legend_handles_labels()\n",
    "# ax.legend(lines,labels,loc='best')"
   ]
  },
  {
   "cell_type": "code",
   "execution_count": 28,
   "metadata": {},
   "outputs": [],
   "source": [
    "df1 = df1.drop([\"region_category\", \"joined_through_referral\", \"preferred_offer_types\",\n",
    "          \"medium_of_operation\", \"avg_frequency_login_days\", \"points_in_wallet\"], axis=1)"
   ]
  },
  {
   "cell_type": "code",
   "execution_count": 29,
   "metadata": {},
   "outputs": [],
   "source": [
    "df2 = df2.drop([\"region_category\", \"joined_through_referral\", \"preferred_offer_types\",\n",
    "          \"medium_of_operation\", \"avg_frequency_login_days\", \"points_in_wallet\"], axis=1)"
   ]
  },
  {
   "cell_type": "code",
   "execution_count": 30,
   "metadata": {},
   "outputs": [
    {
     "data": {
      "text/plain": [
       "age                                0\n",
       "gender                             0\n",
       "membership_category                0\n",
       "joining_date                       0\n",
       "internet_option                    0\n",
       "days_since_last_login              0\n",
       "avg_time_spent                     0\n",
       "avg_transaction_value              0\n",
       "used_special_discount              0\n",
       "offer_application_preference       0\n",
       "past_complaint                     0\n",
       "complaint_status                   0\n",
       "feedback                           0\n",
       "churn_risk_score                   0\n",
       "region_category_random             0\n",
       "joined_through_referral_random     0\n",
       "preferred_offer_types_random       0\n",
       "medium_of_operation_random         0\n",
       "avg_frequency_login_days_random    0\n",
       "points_in_wallet_random            0\n",
       "dtype: int64"
      ]
     },
     "execution_count": 30,
     "metadata": {},
     "output_type": "execute_result"
    }
   ],
   "source": [
    "df1.isnull().sum()"
   ]
  },
  {
   "cell_type": "code",
   "execution_count": 31,
   "metadata": {},
   "outputs": [],
   "source": [
    "df1['days']=(pd.to_datetime(\"2021-03-16\")-df1['joining_date'])/np.timedelta64(1,'D')\n",
    "\n",
    "df1.drop(\"joining_date\",axis=1, inplace = True)"
   ]
  },
  {
   "cell_type": "code",
   "execution_count": 32,
   "metadata": {},
   "outputs": [],
   "source": [
    "df2['days']=(pd.to_datetime(\"2021-03-16\")-df2['joining_date'])/np.timedelta64(1,'D')\n",
    "\n",
    "df2.drop(\"joining_date\",axis=1, inplace = True)"
   ]
  },
  {
   "cell_type": "code",
   "execution_count": 33,
   "metadata": {},
   "outputs": [
    {
     "data": {
      "text/plain": [
       "Basic Membership       7724\n",
       "No Membership          7692\n",
       "Gold Membership        6795\n",
       "Silver Membership      5988\n",
       "Premium Membership     4455\n",
       "Platinum Membership    4338\n",
       "Name: membership_category, dtype: int64"
      ]
     },
     "execution_count": 33,
     "metadata": {},
     "output_type": "execute_result"
    }
   ],
   "source": [
    "df1['membership_category'].value_counts()"
   ]
  },
  {
   "cell_type": "code",
   "execution_count": 34,
   "metadata": {},
   "outputs": [],
   "source": [
    "replace_map = {'membership_category': {'No Membership': 1, 'Basic Membership': 2, 'Premium Membership': 3, 'Silver Membership': 4,\n",
    "                                         'Gold Membership': 5, 'Platinum Membership': 6}}\n",
    "df1.replace(replace_map, inplace=True)\n",
    "df2.replace(replace_map, inplace=True)\n",
    "#df1['membership_category'].dtypes"
   ]
  },
  {
   "cell_type": "code",
   "execution_count": 35,
   "metadata": {},
   "outputs": [],
   "source": [
    "replace_map1 = {'feedback': {'Poor Product Quality': 1, 'Too many ads': 2, 'No reason specified':3, \n",
    "                             'Poor Customer Service': 4,'Poor Website':5, 'Reasonable Price': 6, 'User Friendly Website':7,\n",
    "                             'Products always in Stock':8, 'Quality Customer Care':9}}\n",
    "df1.replace(replace_map1, inplace=True)\n",
    "df2.replace(replace_map1, inplace=True)\n",
    "#df1['feedback'].dtypes"
   ]
  },
  {
   "cell_type": "code",
   "execution_count": 36,
   "metadata": {},
   "outputs": [
    {
     "data": {
      "text/plain": [
       "1    6350\n",
       "3    6290\n",
       "2    6279\n",
       "5    6271\n",
       "4    6252\n",
       "6    1417\n",
       "7    1391\n",
       "8    1382\n",
       "9    1360\n",
       "Name: feedback, dtype: int64"
      ]
     },
     "execution_count": 36,
     "metadata": {},
     "output_type": "execute_result"
    }
   ],
   "source": [
    "df1['feedback'].value_counts()"
   ]
  },
  {
   "cell_type": "code",
   "execution_count": 37,
   "metadata": {},
   "outputs": [
    {
     "data": {
      "text/plain": [
       "Wi-Fi          12413\n",
       "Mobile_Data    12343\n",
       "Fiber_Optic    12236\n",
       "Name: internet_option, dtype: int64"
      ]
     },
     "execution_count": 37,
     "metadata": {},
     "output_type": "execute_result"
    }
   ],
   "source": [
    "df1['internet_option'].value_counts()"
   ]
  },
  {
   "cell_type": "code",
   "execution_count": 38,
   "metadata": {},
   "outputs": [],
   "source": [
    "df1 = pd.get_dummies(df1, drop_first=False)\n",
    "df2 = pd.get_dummies(df2, drop_first=False)"
   ]
  },
  {
   "cell_type": "code",
   "execution_count": 39,
   "metadata": {
    "scrolled": true
   },
   "outputs": [
    {
     "data": {
      "text/html": [
       "<div>\n",
       "<style scoped>\n",
       "    .dataframe tbody tr th:only-of-type {\n",
       "        vertical-align: middle;\n",
       "    }\n",
       "\n",
       "    .dataframe tbody tr th {\n",
       "        vertical-align: top;\n",
       "    }\n",
       "\n",
       "    .dataframe thead th {\n",
       "        text-align: right;\n",
       "    }\n",
       "</style>\n",
       "<table border=\"1\" class=\"dataframe\">\n",
       "  <thead>\n",
       "    <tr style=\"text-align: right;\">\n",
       "      <th></th>\n",
       "      <th>age</th>\n",
       "      <th>membership_category</th>\n",
       "      <th>days_since_last_login</th>\n",
       "      <th>avg_time_spent</th>\n",
       "      <th>avg_transaction_value</th>\n",
       "      <th>feedback</th>\n",
       "      <th>churn_risk_score</th>\n",
       "      <th>avg_frequency_login_days_random</th>\n",
       "      <th>points_in_wallet_random</th>\n",
       "      <th>days</th>\n",
       "      <th>...</th>\n",
       "      <th>region_category_random_Town</th>\n",
       "      <th>region_category_random_Village</th>\n",
       "      <th>joined_through_referral_random_No</th>\n",
       "      <th>joined_through_referral_random_Yes</th>\n",
       "      <th>preferred_offer_types_random_Credit/Debit Card Offers</th>\n",
       "      <th>preferred_offer_types_random_Gift Vouchers/Coupons</th>\n",
       "      <th>preferred_offer_types_random_Without Offers</th>\n",
       "      <th>medium_of_operation_random_Both</th>\n",
       "      <th>medium_of_operation_random_Desktop</th>\n",
       "      <th>medium_of_operation_random_Smartphone</th>\n",
       "    </tr>\n",
       "    <tr>\n",
       "      <th>customer_id</th>\n",
       "      <th></th>\n",
       "      <th></th>\n",
       "      <th></th>\n",
       "      <th></th>\n",
       "      <th></th>\n",
       "      <th></th>\n",
       "      <th></th>\n",
       "      <th></th>\n",
       "      <th></th>\n",
       "      <th></th>\n",
       "      <th></th>\n",
       "      <th></th>\n",
       "      <th></th>\n",
       "      <th></th>\n",
       "      <th></th>\n",
       "      <th></th>\n",
       "      <th></th>\n",
       "      <th></th>\n",
       "      <th></th>\n",
       "      <th></th>\n",
       "      <th></th>\n",
       "    </tr>\n",
       "  </thead>\n",
       "  <tbody>\n",
       "    <tr>\n",
       "      <th>fffe4300490044003600300030003800</th>\n",
       "      <td>18</td>\n",
       "      <td>6</td>\n",
       "      <td>17</td>\n",
       "      <td>300.63</td>\n",
       "      <td>53005.25</td>\n",
       "      <td>8</td>\n",
       "      <td>2</td>\n",
       "      <td>17.0</td>\n",
       "      <td>781.75</td>\n",
       "      <td>1307.0</td>\n",
       "      <td>...</td>\n",
       "      <td>0</td>\n",
       "      <td>1</td>\n",
       "      <td>1</td>\n",
       "      <td>0</td>\n",
       "      <td>0</td>\n",
       "      <td>1</td>\n",
       "      <td>0</td>\n",
       "      <td>0</td>\n",
       "      <td>0</td>\n",
       "      <td>1</td>\n",
       "    </tr>\n",
       "    <tr>\n",
       "      <th>fffe43004900440032003100300035003700</th>\n",
       "      <td>32</td>\n",
       "      <td>3</td>\n",
       "      <td>16</td>\n",
       "      <td>306.34</td>\n",
       "      <td>12838.38</td>\n",
       "      <td>9</td>\n",
       "      <td>1</td>\n",
       "      <td>10.0</td>\n",
       "      <td>715.36</td>\n",
       "      <td>1296.0</td>\n",
       "      <td>...</td>\n",
       "      <td>0</td>\n",
       "      <td>0</td>\n",
       "      <td>0</td>\n",
       "      <td>1</td>\n",
       "      <td>0</td>\n",
       "      <td>1</td>\n",
       "      <td>0</td>\n",
       "      <td>0</td>\n",
       "      <td>1</td>\n",
       "      <td>0</td>\n",
       "    </tr>\n",
       "    <tr>\n",
       "      <th>fffe4300490044003100390032003600</th>\n",
       "      <td>44</td>\n",
       "      <td>1</td>\n",
       "      <td>14</td>\n",
       "      <td>516.16</td>\n",
       "      <td>21027.00</td>\n",
       "      <td>5</td>\n",
       "      <td>5</td>\n",
       "      <td>22.0</td>\n",
       "      <td>500.69</td>\n",
       "      <td>1586.0</td>\n",
       "      <td>...</td>\n",
       "      <td>1</td>\n",
       "      <td>0</td>\n",
       "      <td>0</td>\n",
       "      <td>1</td>\n",
       "      <td>0</td>\n",
       "      <td>1</td>\n",
       "      <td>0</td>\n",
       "      <td>0</td>\n",
       "      <td>1</td>\n",
       "      <td>0</td>\n",
       "    </tr>\n",
       "    <tr>\n",
       "      <th>fffe43004900440036003000330031003600</th>\n",
       "      <td>37</td>\n",
       "      <td>1</td>\n",
       "      <td>11</td>\n",
       "      <td>53.27</td>\n",
       "      <td>25239.56</td>\n",
       "      <td>5</td>\n",
       "      <td>5</td>\n",
       "      <td>6.0</td>\n",
       "      <td>567.66</td>\n",
       "      <td>1599.0</td>\n",
       "      <td>...</td>\n",
       "      <td>0</td>\n",
       "      <td>0</td>\n",
       "      <td>0</td>\n",
       "      <td>1</td>\n",
       "      <td>0</td>\n",
       "      <td>1</td>\n",
       "      <td>0</td>\n",
       "      <td>0</td>\n",
       "      <td>1</td>\n",
       "      <td>0</td>\n",
       "    </tr>\n",
       "    <tr>\n",
       "      <th>fffe43004900440031003900350030003600</th>\n",
       "      <td>31</td>\n",
       "      <td>1</td>\n",
       "      <td>20</td>\n",
       "      <td>113.13</td>\n",
       "      <td>24483.66</td>\n",
       "      <td>5</td>\n",
       "      <td>5</td>\n",
       "      <td>16.0</td>\n",
       "      <td>663.06</td>\n",
       "      <td>1281.0</td>\n",
       "      <td>...</td>\n",
       "      <td>0</td>\n",
       "      <td>0</td>\n",
       "      <td>1</td>\n",
       "      <td>0</td>\n",
       "      <td>1</td>\n",
       "      <td>0</td>\n",
       "      <td>0</td>\n",
       "      <td>0</td>\n",
       "      <td>0</td>\n",
       "      <td>1</td>\n",
       "    </tr>\n",
       "  </tbody>\n",
       "</table>\n",
       "<p>5 rows × 38 columns</p>\n",
       "</div>"
      ],
      "text/plain": [
       "                                      age  membership_category  \\\n",
       "customer_id                                                      \n",
       "fffe4300490044003600300030003800       18                    6   \n",
       "fffe43004900440032003100300035003700   32                    3   \n",
       "fffe4300490044003100390032003600       44                    1   \n",
       "fffe43004900440036003000330031003600   37                    1   \n",
       "fffe43004900440031003900350030003600   31                    1   \n",
       "\n",
       "                                      days_since_last_login  avg_time_spent  \\\n",
       "customer_id                                                                   \n",
       "fffe4300490044003600300030003800                         17          300.63   \n",
       "fffe43004900440032003100300035003700                     16          306.34   \n",
       "fffe4300490044003100390032003600                         14          516.16   \n",
       "fffe43004900440036003000330031003600                     11           53.27   \n",
       "fffe43004900440031003900350030003600                     20          113.13   \n",
       "\n",
       "                                      avg_transaction_value  feedback  \\\n",
       "customer_id                                                             \n",
       "fffe4300490044003600300030003800                   53005.25         8   \n",
       "fffe43004900440032003100300035003700               12838.38         9   \n",
       "fffe4300490044003100390032003600                   21027.00         5   \n",
       "fffe43004900440036003000330031003600               25239.56         5   \n",
       "fffe43004900440031003900350030003600               24483.66         5   \n",
       "\n",
       "                                      churn_risk_score  \\\n",
       "customer_id                                              \n",
       "fffe4300490044003600300030003800                     2   \n",
       "fffe43004900440032003100300035003700                 1   \n",
       "fffe4300490044003100390032003600                     5   \n",
       "fffe43004900440036003000330031003600                 5   \n",
       "fffe43004900440031003900350030003600                 5   \n",
       "\n",
       "                                      avg_frequency_login_days_random  \\\n",
       "customer_id                                                             \n",
       "fffe4300490044003600300030003800                                 17.0   \n",
       "fffe43004900440032003100300035003700                             10.0   \n",
       "fffe4300490044003100390032003600                                 22.0   \n",
       "fffe43004900440036003000330031003600                              6.0   \n",
       "fffe43004900440031003900350030003600                             16.0   \n",
       "\n",
       "                                      points_in_wallet_random    days  ...  \\\n",
       "customer_id                                                            ...   \n",
       "fffe4300490044003600300030003800                       781.75  1307.0  ...   \n",
       "fffe43004900440032003100300035003700                   715.36  1296.0  ...   \n",
       "fffe4300490044003100390032003600                       500.69  1586.0  ...   \n",
       "fffe43004900440036003000330031003600                   567.66  1599.0  ...   \n",
       "fffe43004900440031003900350030003600                   663.06  1281.0  ...   \n",
       "\n",
       "                                      region_category_random_Town  \\\n",
       "customer_id                                                         \n",
       "fffe4300490044003600300030003800                                0   \n",
       "fffe43004900440032003100300035003700                            0   \n",
       "fffe4300490044003100390032003600                                1   \n",
       "fffe43004900440036003000330031003600                            0   \n",
       "fffe43004900440031003900350030003600                            0   \n",
       "\n",
       "                                      region_category_random_Village  \\\n",
       "customer_id                                                            \n",
       "fffe4300490044003600300030003800                                   1   \n",
       "fffe43004900440032003100300035003700                               0   \n",
       "fffe4300490044003100390032003600                                   0   \n",
       "fffe43004900440036003000330031003600                               0   \n",
       "fffe43004900440031003900350030003600                               0   \n",
       "\n",
       "                                      joined_through_referral_random_No  \\\n",
       "customer_id                                                               \n",
       "fffe4300490044003600300030003800                                      1   \n",
       "fffe43004900440032003100300035003700                                  0   \n",
       "fffe4300490044003100390032003600                                      0   \n",
       "fffe43004900440036003000330031003600                                  0   \n",
       "fffe43004900440031003900350030003600                                  1   \n",
       "\n",
       "                                      joined_through_referral_random_Yes  \\\n",
       "customer_id                                                                \n",
       "fffe4300490044003600300030003800                                       0   \n",
       "fffe43004900440032003100300035003700                                   1   \n",
       "fffe4300490044003100390032003600                                       1   \n",
       "fffe43004900440036003000330031003600                                   1   \n",
       "fffe43004900440031003900350030003600                                   0   \n",
       "\n",
       "                                      preferred_offer_types_random_Credit/Debit Card Offers  \\\n",
       "customer_id                                                                                   \n",
       "fffe4300490044003600300030003800                                                      0       \n",
       "fffe43004900440032003100300035003700                                                  0       \n",
       "fffe4300490044003100390032003600                                                      0       \n",
       "fffe43004900440036003000330031003600                                                  0       \n",
       "fffe43004900440031003900350030003600                                                  1       \n",
       "\n",
       "                                      preferred_offer_types_random_Gift Vouchers/Coupons  \\\n",
       "customer_id                                                                                \n",
       "fffe4300490044003600300030003800                                                      1    \n",
       "fffe43004900440032003100300035003700                                                  1    \n",
       "fffe4300490044003100390032003600                                                      1    \n",
       "fffe43004900440036003000330031003600                                                  1    \n",
       "fffe43004900440031003900350030003600                                                  0    \n",
       "\n",
       "                                      preferred_offer_types_random_Without Offers  \\\n",
       "customer_id                                                                         \n",
       "fffe4300490044003600300030003800                                                0   \n",
       "fffe43004900440032003100300035003700                                            0   \n",
       "fffe4300490044003100390032003600                                                0   \n",
       "fffe43004900440036003000330031003600                                            0   \n",
       "fffe43004900440031003900350030003600                                            0   \n",
       "\n",
       "                                      medium_of_operation_random_Both  \\\n",
       "customer_id                                                             \n",
       "fffe4300490044003600300030003800                                    0   \n",
       "fffe43004900440032003100300035003700                                0   \n",
       "fffe4300490044003100390032003600                                    0   \n",
       "fffe43004900440036003000330031003600                                0   \n",
       "fffe43004900440031003900350030003600                                0   \n",
       "\n",
       "                                      medium_of_operation_random_Desktop  \\\n",
       "customer_id                                                                \n",
       "fffe4300490044003600300030003800                                       0   \n",
       "fffe43004900440032003100300035003700                                   1   \n",
       "fffe4300490044003100390032003600                                       1   \n",
       "fffe43004900440036003000330031003600                                   1   \n",
       "fffe43004900440031003900350030003600                                   0   \n",
       "\n",
       "                                      medium_of_operation_random_Smartphone  \n",
       "customer_id                                                                  \n",
       "fffe4300490044003600300030003800                                          1  \n",
       "fffe43004900440032003100300035003700                                      0  \n",
       "fffe4300490044003100390032003600                                          0  \n",
       "fffe43004900440036003000330031003600                                      0  \n",
       "fffe43004900440031003900350030003600                                      1  \n",
       "\n",
       "[5 rows x 38 columns]"
      ]
     },
     "execution_count": 39,
     "metadata": {},
     "output_type": "execute_result"
    }
   ],
   "source": [
    "df1.head()"
   ]
  },
  {
   "cell_type": "code",
   "execution_count": 40,
   "metadata": {},
   "outputs": [
    {
     "data": {
      "text/plain": [
       "age                                                        int64\n",
       "membership_category                                        int64\n",
       "days_since_last_login                                      int64\n",
       "avg_time_spent                                           float64\n",
       "avg_transaction_value                                    float64\n",
       "feedback                                                   int64\n",
       "churn_risk_score                                           int64\n",
       "avg_frequency_login_days_random                          float64\n",
       "points_in_wallet_random                                  float64\n",
       "days                                                     float64\n",
       "gender_F                                                   uint8\n",
       "gender_M                                                   uint8\n",
       "gender_Unknown                                             uint8\n",
       "internet_option_Fiber_Optic                                uint8\n",
       "internet_option_Mobile_Data                                uint8\n",
       "internet_option_Wi-Fi                                      uint8\n",
       "used_special_discount_No                                   uint8\n",
       "used_special_discount_Yes                                  uint8\n",
       "offer_application_preference_No                            uint8\n",
       "offer_application_preference_Yes                           uint8\n",
       "past_complaint_No                                          uint8\n",
       "past_complaint_Yes                                         uint8\n",
       "complaint_status_No Information Available                  uint8\n",
       "complaint_status_Not Applicable                            uint8\n",
       "complaint_status_Solved                                    uint8\n",
       "complaint_status_Solved in Follow-up                       uint8\n",
       "complaint_status_Unsolved                                  uint8\n",
       "region_category_random_City                                uint8\n",
       "region_category_random_Town                                uint8\n",
       "region_category_random_Village                             uint8\n",
       "joined_through_referral_random_No                          uint8\n",
       "joined_through_referral_random_Yes                         uint8\n",
       "preferred_offer_types_random_Credit/Debit Card Offers      uint8\n",
       "preferred_offer_types_random_Gift Vouchers/Coupons         uint8\n",
       "preferred_offer_types_random_Without Offers                uint8\n",
       "medium_of_operation_random_Both                            uint8\n",
       "medium_of_operation_random_Desktop                         uint8\n",
       "medium_of_operation_random_Smartphone                      uint8\n",
       "dtype: object"
      ]
     },
     "execution_count": 40,
     "metadata": {},
     "output_type": "execute_result"
    }
   ],
   "source": [
    "df1.dtypes"
   ]
  },
  {
   "cell_type": "code",
   "execution_count": 41,
   "metadata": {},
   "outputs": [
    {
     "data": {
      "text/plain": [
       "38"
      ]
     },
     "execution_count": 41,
     "metadata": {},
     "output_type": "execute_result"
    }
   ],
   "source": [
    "len(df1.columns)"
   ]
  },
  {
   "cell_type": "code",
   "execution_count": 42,
   "metadata": {},
   "outputs": [
    {
     "name": "stdout",
     "output_type": "stream",
     "text": [
      "37\n"
     ]
    },
    {
     "data": {
      "text/plain": [
       "customer_id\n",
       "fffe4300490044003600300030003800        2\n",
       "fffe43004900440032003100300035003700    1\n",
       "fffe4300490044003100390032003600        5\n",
       "fffe43004900440036003000330031003600    5\n",
       "fffe43004900440031003900350030003600    5\n",
       "Name: churn_risk_score, dtype: int64"
      ]
     },
     "execution_count": 42,
     "metadata": {},
     "output_type": "execute_result"
    }
   ],
   "source": [
    "X = df1.drop(\"churn_risk_score\", axis=1)\n",
    "print(len(X.columns))\n",
    "y=df1[\"churn_risk_score\"]\n",
    "y.head()"
   ]
  },
  {
   "cell_type": "code",
   "execution_count": 43,
   "metadata": {},
   "outputs": [],
   "source": [
    "from sklearn.model_selection import train_test_split\n",
    "X_train, X_test, y_train, y_test = train_test_split(X, y, test_size=0.25, random_state=0)"
   ]
  },
  {
   "cell_type": "code",
   "execution_count": 44,
   "metadata": {},
   "outputs": [],
   "source": [
    "#feature scaling is required when algorithm is based on euclidean distance, DT not required but for visualization required.\n",
    "from sklearn.preprocessing import StandardScaler\n",
    "sc = StandardScaler()\n",
    "X_train = sc.fit_transform(X_train)\n",
    "X_test = sc.transform(X_test)\n",
    "df2=sc.transform(df2)"
   ]
  },
  {
   "cell_type": "code",
   "execution_count": null,
   "metadata": {},
   "outputs": [],
   "source": []
  },
  {
   "cell_type": "code",
   "execution_count": 45,
   "metadata": {},
   "outputs": [],
   "source": [
    "from sklearn.tree import DecisionTreeClassifier\n",
    "classifier = DecisionTreeClassifier(criterion='entropy', random_state=0)\n",
    "classifier.fit(X_train, y_train)\n",
    "y_pred= classifier.predict(X_test)\n",
    "df2_pred = classifier.predict(df2)"
   ]
  },
  {
   "cell_type": "code",
   "execution_count": 46,
   "metadata": {},
   "outputs": [
    {
     "name": "stdout",
     "output_type": "stream",
     "text": [
      "Test Set Accuracy : 70.24221453287197 %\n",
      "\n",
      "\n",
      "Classification Report : \n",
      "\n",
      "              precision    recall  f1-score   support\n",
      "\n",
      "          -1       0.04      0.05      0.04       280\n",
      "           1       0.72      0.69      0.71       674\n",
      "           2       0.71      0.73      0.72       669\n",
      "           3       0.86      0.86      0.86      2596\n",
      "           4       0.61      0.60      0.61      2567\n",
      "           5       0.72      0.71      0.71      2462\n",
      "\n",
      "    accuracy                           0.70      9248\n",
      "   macro avg       0.61      0.61      0.61      9248\n",
      "weighted avg       0.71      0.70      0.71      9248\n",
      "\n",
      "\n",
      " [[  14   19    8   81   92   66]\n",
      " [  20  467  187    0    0    0]\n",
      " [  21  161  487    0    0    0]\n",
      " [ 105    0    0 2231  260    0]\n",
      " [ 120    0    0  278 1542  627]\n",
      " [  90    0    0    0  617 1755]]\n"
     ]
    }
   ],
   "source": [
    "from sklearn.metrics import accuracy_score, classification_report, confusion_matrix\n",
    "print(f\"Test Set Accuracy : {accuracy_score(y_test, y_pred) * 100} %\\n\\n\")\n",
    "print(f\"Classification Report : \\n\\n{classification_report(y_test, y_pred)}\")\n",
    "print(\"\\n\", confusion_matrix(y_test, y_pred))"
   ]
  },
  {
   "cell_type": "code",
   "execution_count": 47,
   "metadata": {},
   "outputs": [
    {
     "data": {
      "text/plain": [
       " 3    2596\n",
       " 4    2567\n",
       " 5    2462\n",
       " 1     674\n",
       " 2     669\n",
       "-1     280\n",
       "Name: churn_risk_score, dtype: int64"
      ]
     },
     "execution_count": 47,
     "metadata": {},
     "output_type": "execute_result"
    }
   ],
   "source": [
    "y_test.value_counts()"
   ]
  },
  {
   "cell_type": "code",
   "execution_count": 48,
   "metadata": {
    "scrolled": true
   },
   "outputs": [],
   "source": [
    "# from sklearn.ensemble import RandomForestClassifier\n",
    "# classifier_rf = RandomForestClassifier(n_estimators = 300, criterion = 'entropy', random_state = 42)\n",
    "# classifier_rf.fit(X_train, y_train)\n",
    "# rf_predictions = classifier_rf.predict(X_test)\n",
    "# print(classifier_rf.score(X_test, y_test))\n",
    "# print(confusion_matrix(y_test, rf_predictions))\n",
    "#print(f\"Classification Report : \\n\\n{classification_report(y_test, rf_predictions)}\")\n",
    "#print(f\"Classification Report : \\n\\n{classifier_rf.feature_importances_}\")"
   ]
  },
  {
   "cell_type": "code",
   "execution_count": null,
   "metadata": {},
   "outputs": [],
   "source": []
  },
  {
   "cell_type": "code",
   "execution_count": 49,
   "metadata": {},
   "outputs": [
    {
     "name": "stdout",
     "output_type": "stream",
     "text": [
      "Fitting 2 folds for each of 2 candidates, totalling 4 fits\n"
     ]
    },
    {
     "name": "stderr",
     "output_type": "stream",
     "text": [
      "[Parallel(n_jobs=-1)]: Using backend LokyBackend with 8 concurrent workers.\n",
      "[Parallel(n_jobs=-1)]: Done   1 tasks      | elapsed:    8.5s\n",
      "[Parallel(n_jobs=-1)]: Done   2 out of   4 | elapsed:    8.5s remaining:    8.5s\n",
      "[Parallel(n_jobs=-1)]: Done   4 out of   4 | elapsed:   11.1s remaining:    0.0s\n",
      "[Parallel(n_jobs=-1)]: Done   4 out of   4 | elapsed:   11.1s finished\n"
     ]
    },
    {
     "name": "stdout",
     "output_type": "stream",
     "text": [
      "Using hyperparameters --> \n",
      " {'bootstrap': True, 'max_depth': 25, 'min_samples_leaf': 2, 'n_estimators': 25}\n"
     ]
    }
   ],
   "source": [
    "n_estimators = [25]\n",
    "max_depth = [25]\n",
    "min_samples_leaf = [2]\n",
    "bootstrap = [True, False]\n",
    "\n",
    "param_grid = {\n",
    "    \"n_estimators\": n_estimators,\n",
    "    \"max_depth\": max_depth,\n",
    "    \"min_samples_leaf\": min_samples_leaf,\n",
    "    \"bootstrap\": bootstrap,\n",
    "}\n",
    "\n",
    "from sklearn.ensemble import RandomForestRegressor\n",
    "rf = RandomForestRegressor(random_state=42)\n",
    "\n",
    "from sklearn.model_selection import GridSearchCV\n",
    "rf_model = GridSearchCV(estimator=rf, param_grid=param_grid, cv=2, verbose=10, n_jobs=-1)\n",
    "rf_model.fit(X_train, y_train)\n",
    "\n",
    "print(\"Using hyperparameters --> \\n\", rf_model.best_params_)"
   ]
  },
  {
   "cell_type": "code",
   "execution_count": 50,
   "metadata": {},
   "outputs": [
    {
     "data": {
      "text/plain": [
       "array([2.92091966, 1.735     , 3.25866667, ..., 4.80533333, 3.19555556,\n",
       "       2.46666667])"
      ]
     },
     "execution_count": 50,
     "metadata": {},
     "output_type": "execute_result"
    }
   ],
   "source": [
    "y_pred = rf_model.predict(X_test)\n",
    "y_pred"
   ]
  },
  {
   "cell_type": "code",
   "execution_count": 51,
   "metadata": {},
   "outputs": [],
   "source": [
    "y_pred=np.rint(y_pred)"
   ]
  },
  {
   "cell_type": "code",
   "execution_count": 52,
   "metadata": {},
   "outputs": [
    {
     "name": "stdout",
     "output_type": "stream",
     "text": [
      "Test Set Accuracy : 68.6310553633218 %\n",
      "\n",
      "\n",
      "Classification Report : \n",
      "\n",
      "              precision    recall  f1-score   support\n",
      "\n",
      "        -1.0       0.00      0.00      0.00       280\n",
      "         0.0       0.00      0.00      0.00         0\n",
      "         1.0       0.68      0.83      0.75       674\n",
      "         2.0       0.57      0.63      0.60       669\n",
      "         3.0       0.80      0.87      0.83      2596\n",
      "         4.0       0.57      0.69      0.62      2567\n",
      "         5.0       0.78      0.54      0.63      2462\n",
      "\n",
      "    accuracy                           0.69      9248\n",
      "   macro avg       0.48      0.51      0.49      9248\n",
      "weighted avg       0.68      0.69      0.67      9248\n",
      "\n",
      "\n",
      " [[   0    0   20   15   97  101   47]\n",
      " [   0    0    0    0    0    0    0]\n",
      " [   0   11  562  101    0    0    0]\n",
      " [   0    0  247  422    0    0    0]\n",
      " [   0    0    1  184 2267  144    0]\n",
      " [   0    0    1   20  439 1775  332]\n",
      " [   0    0    0    2   45 1094 1321]]\n"
     ]
    },
    {
     "name": "stderr",
     "output_type": "stream",
     "text": [
      "C:\\Users\\sarokuma\\Anaconda3\\lib\\site-packages\\sklearn\\metrics\\_classification.py:1221: UndefinedMetricWarning: Precision and F-score are ill-defined and being set to 0.0 in labels with no predicted samples. Use `zero_division` parameter to control this behavior.\n",
      "  _warn_prf(average, modifier, msg_start, len(result))\n",
      "C:\\Users\\sarokuma\\Anaconda3\\lib\\site-packages\\sklearn\\metrics\\_classification.py:1221: UndefinedMetricWarning: Recall and F-score are ill-defined and being set to 0.0 in labels with no true samples. Use `zero_division` parameter to control this behavior.\n",
      "  _warn_prf(average, modifier, msg_start, len(result))\n"
     ]
    }
   ],
   "source": [
    "from sklearn.metrics import accuracy_score, classification_report, confusion_matrix\n",
    "print(f\"Test Set Accuracy : {accuracy_score(y_test, y_pred) * 100} %\\n\\n\")\n",
    "print(f\"Classification Report : \\n\\n{classification_report(y_test, y_pred)}\")\n",
    "print(\"\\n\", confusion_matrix(y_test, y_pred))"
   ]
  },
  {
   "cell_type": "code",
   "execution_count": 53,
   "metadata": {},
   "outputs": [],
   "source": [
    "# just concat the customer id column  & y_pred"
   ]
  },
  {
   "cell_type": "code",
   "execution_count": null,
   "metadata": {},
   "outputs": [],
   "source": [
    "#df[\"avg_frequency_login_days\"] = df[\"avg_frequency_login_days\"].astype(\"O\").astype(\"float64\")"
   ]
  }
 ],
 "metadata": {
  "kernelspec": {
   "display_name": "Python 3",
   "language": "python",
   "name": "python3"
  },
  "language_info": {
   "codemirror_mode": {
    "name": "ipython",
    "version": 3
   },
   "file_extension": ".py",
   "mimetype": "text/x-python",
   "name": "python",
   "nbconvert_exporter": "python",
   "pygments_lexer": "ipython3",
   "version": "3.8.5"
  }
 },
 "nbformat": 4,
 "nbformat_minor": 4
}
