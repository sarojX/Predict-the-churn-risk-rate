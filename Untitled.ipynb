{
 "cells": [
  {
   "cell_type": "code",
   "execution_count": 1,
   "metadata": {},
   "outputs": [],
   "source": [
    "import pandas as pd\n",
    "import numpy as np\n",
    "# import matplotlib.pyplot as plt\n",
    "# %matplotlib inline\n",
    "# import seaborn as sns"
   ]
  },
  {
   "cell_type": "code",
   "execution_count": 2,
   "metadata": {},
   "outputs": [],
   "source": [
    "df1 = pd.read_csv(\"train.csv\", parse_dates=['joining_date'])"
   ]
  },
  {
   "cell_type": "code",
   "execution_count": 3,
   "metadata": {},
   "outputs": [],
   "source": [
    "df2 = pd.read_csv(\"test.csv\", parse_dates=['joining_date'])\n",
    "sample1 = pd.DataFrame(df2[\"customer_id\"])"
   ]
  },
  {
   "cell_type": "code",
   "execution_count": 4,
   "metadata": {},
   "outputs": [],
   "source": [
    "df1 = df1.drop([\"customer_id\",\"Name\",\"security_no\",\"referral_id\",\"last_visit_time\"], axis=1)"
   ]
  },
  {
   "cell_type": "code",
   "execution_count": 5,
   "metadata": {},
   "outputs": [],
   "source": [
    "df2 = df2.drop([\"customer_id\",\"Name\",\"security_no\",\"referral_id\",\"last_visit_time\"], axis=1)"
   ]
  },
  {
   "cell_type": "code",
   "execution_count": 6,
   "metadata": {},
   "outputs": [],
   "source": [
    "# drop 296/36992  rows as in churn_risk_score its -1\n",
    "index_names1 = df1[ df1['churn_risk_score'] == -1 ].index\n",
    "df1.drop(index_names1, inplace = True)"
   ]
  },
  {
   "cell_type": "code",
   "execution_count": 7,
   "metadata": {},
   "outputs": [],
   "source": [
    "df1.replace('Error', np.NaN, inplace=True)"
   ]
  },
  {
   "cell_type": "code",
   "execution_count": 8,
   "metadata": {},
   "outputs": [],
   "source": [
    "df2.replace('Error', np.NaN, inplace=True)"
   ]
  },
  {
   "cell_type": "code",
   "execution_count": 9,
   "metadata": {},
   "outputs": [],
   "source": [
    "df1[\"avg_frequency_login_days\"] = df1[\"avg_frequency_login_days\"].astype(\"O\").astype(\"float64\")"
   ]
  },
  {
   "cell_type": "code",
   "execution_count": 10,
   "metadata": {},
   "outputs": [],
   "source": [
    "df2[\"avg_frequency_login_days\"] = df2[\"avg_frequency_login_days\"].astype(\"O\").astype(\"float64\")"
   ]
  },
  {
   "cell_type": "code",
   "execution_count": 11,
   "metadata": {},
   "outputs": [],
   "source": [
    "df1.replace('?', np.NaN, inplace = True)"
   ]
  },
  {
   "cell_type": "code",
   "execution_count": 12,
   "metadata": {},
   "outputs": [],
   "source": [
    "df2.replace('?', np.NaN, inplace = True)"
   ]
  },
  {
   "cell_type": "code",
   "execution_count": 13,
   "metadata": {},
   "outputs": [],
   "source": [
    "#random sample imputation for handling nan values\n",
    "def impute_nan(df,variable):\n",
    "    #df[variable+\"_median\"]=df[variable].fillna(median)\n",
    "    df[variable+\"_random\"]=df[variable]\n",
    "    random_sample=df[variable].dropna().sample(df[variable].isnull().sum(), random_state=0)\n",
    "    random_sample.index=df[df[variable].isnull()].index\n",
    "    df.loc[df[variable].isnull(),variable+\"_random\"]=random_sample"
   ]
  },
  {
   "cell_type": "code",
   "execution_count": 14,
   "metadata": {},
   "outputs": [],
   "source": [
    "#all has been replaced with random sample\n",
    "for feature in [\"region_category\", \"joined_through_referral\", \"preferred_offer_types\", \n",
    "                \"medium_of_operation\", \"avg_frequency_login_days\",\"points_in_wallet\"]:\n",
    "    impute_nan(df1, feature)\n",
    "    impute_nan(df2, feature)"
   ]
  },
  {
   "cell_type": "code",
   "execution_count": 15,
   "metadata": {},
   "outputs": [],
   "source": [
    "df1 = df1.drop([\"region_category\", \"joined_through_referral\", \"preferred_offer_types\",\n",
    "          \"medium_of_operation\", \"avg_frequency_login_days\", \"points_in_wallet\"], axis=1)"
   ]
  },
  {
   "cell_type": "code",
   "execution_count": 16,
   "metadata": {},
   "outputs": [],
   "source": [
    "df2 = df2.drop([\"region_category\", \"joined_through_referral\", \"preferred_offer_types\",\n",
    "          \"medium_of_operation\", \"avg_frequency_login_days\", \"points_in_wallet\"], axis=1)"
   ]
  },
  {
   "cell_type": "code",
   "execution_count": 17,
   "metadata": {},
   "outputs": [],
   "source": [
    "df1['days']=(pd.to_datetime(\"2021-03-16\")-df1['joining_date'])/np.timedelta64(1,'D')\n",
    "\n",
    "df1.drop(\"joining_date\",axis=1, inplace = True)"
   ]
  },
  {
   "cell_type": "code",
   "execution_count": 18,
   "metadata": {},
   "outputs": [],
   "source": [
    "df2['days']=(pd.to_datetime(\"2021-03-16\")-df2['joining_date'])/np.timedelta64(1,'D')\n",
    "\n",
    "df2.drop(\"joining_date\",axis=1, inplace = True)"
   ]
  },
  {
   "cell_type": "code",
   "execution_count": 19,
   "metadata": {},
   "outputs": [],
   "source": [
    "replace_map = {'membership_category': {'No Membership': 1, 'Basic Membership': 2, 'Premium Membership': 3, 'Silver Membership': 4,\n",
    "                                         'Gold Membership': 5, 'Platinum Membership': 6}}\n",
    "df1.replace(replace_map, inplace=True)\n",
    "df2.replace(replace_map, inplace=True)"
   ]
  },
  {
   "cell_type": "code",
   "execution_count": 20,
   "metadata": {},
   "outputs": [],
   "source": [
    "replace_map1 = {'feedback': {'Poor Product Quality': 1, 'Too many ads': 2, 'No reason specified':3, \n",
    "                             'Poor Customer Service': 4,'Poor Website':5, 'Reasonable Price': 6, 'User Friendly Website':7,\n",
    "                             'Products always in Stock':8, 'Quality Customer Care':9}}\n",
    "df1.replace(replace_map1, inplace=True)\n",
    "df2.replace(replace_map1, inplace=True)"
   ]
  },
  {
   "cell_type": "code",
   "execution_count": 21,
   "metadata": {},
   "outputs": [],
   "source": [
    "df1 = pd.get_dummies(df1, drop_first=False)\n",
    "df2 = pd.get_dummies(df2, drop_first=False)"
   ]
  },
  {
   "cell_type": "code",
   "execution_count": 22,
   "metadata": {},
   "outputs": [
    {
     "name": "stdout",
     "output_type": "stream",
     "text": [
      "37\n"
     ]
    }
   ],
   "source": [
    "X = df1.drop(\"churn_risk_score\", axis=1)\n",
    "print(len(X.columns))\n",
    "y=df1[\"churn_risk_score\"]\n",
    "#y.head()"
   ]
  },
  {
   "cell_type": "code",
   "execution_count": 23,
   "metadata": {},
   "outputs": [],
   "source": [
    "from sklearn.model_selection import train_test_split\n",
    "X_train, X_test, y_train, y_test = train_test_split(X, y, test_size=0.25, random_state=0)"
   ]
  },
  {
   "cell_type": "code",
   "execution_count": 24,
   "metadata": {},
   "outputs": [],
   "source": [
    "from sklearn.preprocessing import StandardScaler\n",
    "sc = StandardScaler()\n",
    "X_train = sc.fit_transform(X_train)\n",
    "X_test = sc.transform(X_test)\n",
    "df2=sc.transform(df2)"
   ]
  },
  {
   "cell_type": "code",
   "execution_count": 25,
   "metadata": {},
   "outputs": [
    {
     "name": "stdout",
     "output_type": "stream",
     "text": [
      "Fitting 2 folds for each of 2 candidates, totalling 4 fits\n"
     ]
    },
    {
     "name": "stderr",
     "output_type": "stream",
     "text": [
      "[Parallel(n_jobs=-1)]: Using backend LokyBackend with 8 concurrent workers.\n",
      "[Parallel(n_jobs=-1)]: Done   1 tasks      | elapsed:    6.9s\n",
      "[Parallel(n_jobs=-1)]: Done   2 out of   4 | elapsed:    7.6s remaining:    7.6s\n",
      "[Parallel(n_jobs=-1)]: Done   4 out of   4 | elapsed:    9.3s remaining:    0.0s\n",
      "[Parallel(n_jobs=-1)]: Done   4 out of   4 | elapsed:    9.3s finished\n"
     ]
    },
    {
     "name": "stdout",
     "output_type": "stream",
     "text": [
      "Using hyperparameters --> \n",
      " {'bootstrap': True, 'max_depth': 25, 'min_samples_leaf': 2, 'n_estimators': 25}\n"
     ]
    }
   ],
   "source": [
    "n_estimators = [25]\n",
    "max_depth = [25]\n",
    "min_samples_leaf = [2]\n",
    "bootstrap = [True, False]\n",
    "\n",
    "param_grid = {\n",
    "    \"n_estimators\": n_estimators,\n",
    "    \"max_depth\": max_depth,\n",
    "    \"min_samples_leaf\": min_samples_leaf,\n",
    "    \"bootstrap\": bootstrap,\n",
    "}\n",
    "\n",
    "from sklearn.ensemble import RandomForestRegressor\n",
    "rf = RandomForestRegressor(random_state=42)\n",
    "\n",
    "from sklearn.model_selection import GridSearchCV\n",
    "rf_model = GridSearchCV(estimator=rf, param_grid=param_grid, cv=2, verbose=10, n_jobs=-1)\n",
    "rf_model.fit(X_train, y_train)\n",
    "\n",
    "print(\"Using hyperparameters --> \\n\", rf_model.best_params_)"
   ]
  },
  {
   "cell_type": "code",
   "execution_count": 26,
   "metadata": {},
   "outputs": [
    {
     "data": {
      "text/plain": [
       "array([4., 4., 4., ..., 5., 4., 3.])"
      ]
     },
     "execution_count": 26,
     "metadata": {},
     "output_type": "execute_result"
    }
   ],
   "source": [
    "y_pred = rf_model.predict(X_test)\n",
    "y_pred=np.rint(y_pred)\n",
    "y_pred"
   ]
  },
  {
   "cell_type": "code",
   "execution_count": null,
   "metadata": {},
   "outputs": [],
   "source": []
  },
  {
   "cell_type": "code",
   "execution_count": 27,
   "metadata": {},
   "outputs": [
    {
     "name": "stdout",
     "output_type": "stream",
     "text": [
      "Test Set Accuracy : 77.56195579370396 %\n",
      "\n",
      "\n",
      "Classification Report : \n",
      "\n",
      "              precision    recall  f1-score   support\n",
      "\n",
      "           1       0.73      0.79      0.76       680\n",
      "           2       0.76      0.70      0.73       668\n",
      "           3       0.91      0.92      0.92      2634\n",
      "           4       0.69      0.60      0.64      2500\n",
      "           5       0.73      0.82      0.77      2476\n",
      "\n",
      "    accuracy                           0.78      8958\n",
      "   macro avg       0.76      0.77      0.76      8958\n",
      "weighted avg       0.77      0.78      0.77      8958\n",
      "\n",
      "\n",
      " [[ 535  145    0    0    0]\n",
      " [ 199  469    0    0    0]\n",
      " [   0    0 2419  215    0]\n",
      " [   0    0  232 1507  761]\n",
      " [   0    0    0  458 2018]]\n"
     ]
    }
   ],
   "source": [
    "from sklearn.metrics import accuracy_score, classification_report, confusion_matrix\n",
    "print(f\"Test Set Accuracy : {accuracy_score(y_test, y_pred) * 100} %\\n\\n\")\n",
    "print(f\"Classification Report : \\n\\n{classification_report(y_test, y_pred)}\")\n",
    "print(\"\\n\", confusion_matrix(y_test, y_pred))"
   ]
  },
  {
   "cell_type": "code",
   "execution_count": 28,
   "metadata": {},
   "outputs": [
    {
     "data": {
      "text/plain": [
       "array([3, 3, 3, ..., 5, 4, 3])"
      ]
     },
     "execution_count": 28,
     "metadata": {},
     "output_type": "execute_result"
    }
   ],
   "source": [
    "df2_pred = rf_model.predict(df2)\n",
    "df2_pred=np.rint(df2_pred).astype(int)\n",
    "df2_pred"
   ]
  },
  {
   "cell_type": "code",
   "execution_count": 29,
   "metadata": {},
   "outputs": [],
   "source": [
    "# making sample csv file to submit\n",
    "sample2=pd.DataFrame(df2_pred)\n",
    "sample=pd.concat([sample1, sample2], join = 'outer', axis = 1)"
   ]
  },
  {
   "cell_type": "code",
   "execution_count": 30,
   "metadata": {},
   "outputs": [],
   "source": [
    "sample.columns = ['customer_id','churn_risk_score']"
   ]
  },
  {
   "cell_type": "code",
   "execution_count": 31,
   "metadata": {},
   "outputs": [],
   "source": [
    "sample_data = sample.to_csv('sample.csv', index = False)"
   ]
  },
  {
   "cell_type": "code",
   "execution_count": 32,
   "metadata": {},
   "outputs": [
    {
     "data": {
      "text/html": [
       "<div>\n",
       "<style scoped>\n",
       "    .dataframe tbody tr th:only-of-type {\n",
       "        vertical-align: middle;\n",
       "    }\n",
       "\n",
       "    .dataframe tbody tr th {\n",
       "        vertical-align: top;\n",
       "    }\n",
       "\n",
       "    .dataframe thead th {\n",
       "        text-align: right;\n",
       "    }\n",
       "</style>\n",
       "<table border=\"1\" class=\"dataframe\">\n",
       "  <thead>\n",
       "    <tr style=\"text-align: right;\">\n",
       "      <th></th>\n",
       "      <th>customer_id</th>\n",
       "      <th>churn_risk_score</th>\n",
       "    </tr>\n",
       "  </thead>\n",
       "  <tbody>\n",
       "    <tr>\n",
       "      <th>0</th>\n",
       "      <td>fffe43004900440031003700300030003400</td>\n",
       "      <td>3</td>\n",
       "    </tr>\n",
       "    <tr>\n",
       "      <th>1</th>\n",
       "      <td>fffe43004900440031003900370037003300</td>\n",
       "      <td>3</td>\n",
       "    </tr>\n",
       "    <tr>\n",
       "      <th>2</th>\n",
       "      <td>fffe43004900440034003800360037003000</td>\n",
       "      <td>3</td>\n",
       "    </tr>\n",
       "    <tr>\n",
       "      <th>3</th>\n",
       "      <td>fffe43004900440036003200370033003400</td>\n",
       "      <td>3</td>\n",
       "    </tr>\n",
       "    <tr>\n",
       "      <th>4</th>\n",
       "      <td>fffe43004900440035003000370031003900</td>\n",
       "      <td>4</td>\n",
       "    </tr>\n",
       "    <tr>\n",
       "      <th>...</th>\n",
       "      <td>...</td>\n",
       "      <td>...</td>\n",
       "    </tr>\n",
       "    <tr>\n",
       "      <th>19914</th>\n",
       "      <td>fffe43004900440035003600330037003800</td>\n",
       "      <td>3</td>\n",
       "    </tr>\n",
       "    <tr>\n",
       "      <th>19915</th>\n",
       "      <td>fffe43004900440032003900370037003100</td>\n",
       "      <td>5</td>\n",
       "    </tr>\n",
       "    <tr>\n",
       "      <th>19916</th>\n",
       "      <td>fffe43004900440036003100310036003700</td>\n",
       "      <td>5</td>\n",
       "    </tr>\n",
       "    <tr>\n",
       "      <th>19917</th>\n",
       "      <td>fffe43004900440034003200330033003600</td>\n",
       "      <td>4</td>\n",
       "    </tr>\n",
       "    <tr>\n",
       "      <th>19918</th>\n",
       "      <td>fffe43004900440036003200340030003100</td>\n",
       "      <td>3</td>\n",
       "    </tr>\n",
       "  </tbody>\n",
       "</table>\n",
       "<p>19919 rows × 2 columns</p>\n",
       "</div>"
      ],
      "text/plain": [
       "                                customer_id  churn_risk_score\n",
       "0      fffe43004900440031003700300030003400                 3\n",
       "1      fffe43004900440031003900370037003300                 3\n",
       "2      fffe43004900440034003800360037003000                 3\n",
       "3      fffe43004900440036003200370033003400                 3\n",
       "4      fffe43004900440035003000370031003900                 4\n",
       "...                                     ...               ...\n",
       "19914  fffe43004900440035003600330037003800                 3\n",
       "19915  fffe43004900440032003900370037003100                 5\n",
       "19916  fffe43004900440036003100310036003700                 5\n",
       "19917  fffe43004900440034003200330033003600                 4\n",
       "19918  fffe43004900440036003200340030003100                 3\n",
       "\n",
       "[19919 rows x 2 columns]"
      ]
     },
     "execution_count": 32,
     "metadata": {},
     "output_type": "execute_result"
    }
   ],
   "source": [
    "sample"
   ]
  }
 ],
 "metadata": {
  "kernelspec": {
   "display_name": "Python 3",
   "language": "python",
   "name": "python3"
  },
  "language_info": {
   "codemirror_mode": {
    "name": "ipython",
    "version": 3
   },
   "file_extension": ".py",
   "mimetype": "text/x-python",
   "name": "python",
   "nbconvert_exporter": "python",
   "pygments_lexer": "ipython3",
   "version": "3.8.5"
  }
 },
 "nbformat": 4,
 "nbformat_minor": 4
}
